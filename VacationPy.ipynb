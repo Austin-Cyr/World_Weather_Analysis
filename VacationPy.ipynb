{
 "cells": [
  {
   "cell_type": "code",
   "execution_count": 11,
   "id": "545ff749-82b3-402f-b6a4-fe70f861ab58",
   "metadata": {},
   "outputs": [],
   "source": [
    "# Import the dependencies.\n",
    "import pandas as pd\n",
    "import gmaps\n",
    "import requests\n",
    "# Import the API key.\n",
    "from config import g_key"
   ]
  },
  {
   "cell_type": "code",
   "execution_count": 12,
   "id": "262c0538-d9b9-4239-83ab-b2a2579e9076",
   "metadata": {},
   "outputs": [
    {
     "output_type": "execute_result",
     "data": {
      "text/plain": [
       "   City_ID         City Country                 Date      Lat       Lng  \\\n",
       "0        0        Kutum      SD  2021-07-18 04:04:12  14.2000   24.6667   \n",
       "1        1        Vaini      TO  2021-07-18 04:03:18 -21.2000 -175.2000   \n",
       "2        2  Port Alfred      ZA  2021-07-18 04:03:39 -33.5906   26.8910   \n",
       "3        3        Pevek      RU  2021-07-18 04:03:39  69.7008  170.3133   \n",
       "4        4   North Bend      US  2021-07-18 04:04:12  43.4065 -124.2243   \n",
       "\n",
       "   Max Temp  Humidity  Cloudiness  Wind Speed  \n",
       "0     72.81        70          72       15.84  \n",
       "1     75.45        87          16       16.80  \n",
       "2     55.40        63           0        6.69  \n",
       "3     34.75        96         100       14.16  \n",
       "4     57.11        86           1        6.91  "
      ],
      "text/html": "<div>\n<style scoped>\n    .dataframe tbody tr th:only-of-type {\n        vertical-align: middle;\n    }\n\n    .dataframe tbody tr th {\n        vertical-align: top;\n    }\n\n    .dataframe thead th {\n        text-align: right;\n    }\n</style>\n<table border=\"1\" class=\"dataframe\">\n  <thead>\n    <tr style=\"text-align: right;\">\n      <th></th>\n      <th>City_ID</th>\n      <th>City</th>\n      <th>Country</th>\n      <th>Date</th>\n      <th>Lat</th>\n      <th>Lng</th>\n      <th>Max Temp</th>\n      <th>Humidity</th>\n      <th>Cloudiness</th>\n      <th>Wind Speed</th>\n    </tr>\n  </thead>\n  <tbody>\n    <tr>\n      <th>0</th>\n      <td>0</td>\n      <td>Kutum</td>\n      <td>SD</td>\n      <td>2021-07-18 04:04:12</td>\n      <td>14.2000</td>\n      <td>24.6667</td>\n      <td>72.81</td>\n      <td>70</td>\n      <td>72</td>\n      <td>15.84</td>\n    </tr>\n    <tr>\n      <th>1</th>\n      <td>1</td>\n      <td>Vaini</td>\n      <td>TO</td>\n      <td>2021-07-18 04:03:18</td>\n      <td>-21.2000</td>\n      <td>-175.2000</td>\n      <td>75.45</td>\n      <td>87</td>\n      <td>16</td>\n      <td>16.80</td>\n    </tr>\n    <tr>\n      <th>2</th>\n      <td>2</td>\n      <td>Port Alfred</td>\n      <td>ZA</td>\n      <td>2021-07-18 04:03:39</td>\n      <td>-33.5906</td>\n      <td>26.8910</td>\n      <td>55.40</td>\n      <td>63</td>\n      <td>0</td>\n      <td>6.69</td>\n    </tr>\n    <tr>\n      <th>3</th>\n      <td>3</td>\n      <td>Pevek</td>\n      <td>RU</td>\n      <td>2021-07-18 04:03:39</td>\n      <td>69.7008</td>\n      <td>170.3133</td>\n      <td>34.75</td>\n      <td>96</td>\n      <td>100</td>\n      <td>14.16</td>\n    </tr>\n    <tr>\n      <th>4</th>\n      <td>4</td>\n      <td>North Bend</td>\n      <td>US</td>\n      <td>2021-07-18 04:04:12</td>\n      <td>43.4065</td>\n      <td>-124.2243</td>\n      <td>57.11</td>\n      <td>86</td>\n      <td>1</td>\n      <td>6.91</td>\n    </tr>\n  </tbody>\n</table>\n</div>"
     },
     "metadata": {},
     "execution_count": 12
    }
   ],
   "source": [
    "# Store the CSV you saved created in part one into a DataFrame.\n",
    "city_data_df = pd.read_csv(\"weather_data/cities.csv\")\n",
    "city_data_df.head()"
   ]
  },
  {
   "cell_type": "code",
   "execution_count": 13,
   "id": "8434f2b9-ed64-491b-a3e1-8751b94becad",
   "metadata": {},
   "outputs": [
    {
     "output_type": "execute_result",
     "data": {
      "text/plain": [
       "City_ID         int64\n",
       "City           object\n",
       "Country        object\n",
       "Date           object\n",
       "Lat           float64\n",
       "Lng           float64\n",
       "Max Temp      float64\n",
       "Humidity        int64\n",
       "Cloudiness      int64\n",
       "Wind Speed    float64\n",
       "dtype: object"
      ]
     },
     "metadata": {},
     "execution_count": 13
    }
   ],
   "source": [
    "city_data_df.dtypes\n"
   ]
  },
  {
   "cell_type": "code",
   "execution_count": 14,
   "id": "c49c61ad-a1d4-4b34-b20e-346093ea8f0c",
   "metadata": {},
   "outputs": [],
   "source": [
    "# Configure gmaps to use your Google API key.\n",
    "gmaps.configure(api_key=g_key)"
   ]
  },
  {
   "cell_type": "code",
   "execution_count": 15,
   "id": "f49f77d7-1ae2-4e0e-a036-f37db0482c13",
   "metadata": {},
   "outputs": [
    {
     "output_type": "display_data",
     "data": {
      "text/plain": "Figure(layout=FigureLayout(height='420px'))",
      "application/vnd.jupyter.widget-view+json": {
       "version_major": 2,
       "version_minor": 0,
       "model_id": "17381dcd44504afb85f748c9c443771b"
      }
     },
     "metadata": {}
    }
   ],
   "source": [
    "# Heatmap of temperature\n",
    "# Get the latitude and longitude.\n",
    "locations = city_data_df[[\"Lat\", \"Lng\"]]\n",
    "# Get the maximum temperature.\n",
    "max_temp = city_data_df[\"Max Temp\"]\n",
    "# Assign the figure variable.\n",
    "fig = gmaps.figure()\n",
    "# Assign the heatmap variable.\n",
    "heat_layer = gmaps.heatmap_layer(locations, weights=max_temp)\n",
    "# Add the heatmap layer.\n",
    "fig.add_layer(heat_layer)\n",
    "# Call the figure to plot the data.\n",
    "fig"
   ]
  },
  {
   "cell_type": "code",
   "execution_count": 38,
   "id": "6e59a5b5-2bdb-45b7-906f-005e692decdb",
   "metadata": {},
   "outputs": [
    {
     "output_type": "display_data",
     "data": {
      "text/plain": "Figure(layout=FigureLayout(height='420px'))",
      "application/vnd.jupyter.widget-view+json": {
       "version_major": 2,
       "version_minor": 0,
       "model_id": "c9973966ac8a490eaaa54600cf8df287"
      }
     },
     "metadata": {}
    }
   ],
   "source": [
    "# Heatmap of temperature\n",
    "# Get the latitude and longitude.\n",
    "locations = city_data_df[[\"Lat\", \"Lng\"]]\n",
    "# Get the maximum temperature.\n",
    "max_temp = city_data_df[\"Max Temp\"]\n",
    "# Assign the figure variable.\n",
    "fig = gmaps.figure(center=(15.0, 40.0), zoom_level=2.3)\n",
    "# Assign the heatmap variable.\n",
    "heat_layer = gmaps.heatmap_layer(locations, weights=max_temp, dissipating=False, max_intensity=300, point_radius=4)\n",
    "# Add the heatmap layer.\n",
    "fig.add_layer(heat_layer)\n",
    "# Call the figure to plot the data.\n",
    "fig"
   ]
  },
  {
   "cell_type": "code",
   "execution_count": 39,
   "metadata": {},
   "outputs": [
    {
     "output_type": "display_data",
     "data": {
      "text/plain": "Figure(layout=FigureLayout(height='420px'))",
      "application/vnd.jupyter.widget-view+json": {
       "version_major": 2,
       "version_minor": 0,
       "model_id": "44c1b2a1319d435db46fdb16fbebdb85"
      }
     },
     "metadata": {}
    }
   ],
   "source": [
    "# Heatmap of percent humidity\n",
    "locations = city_data_df[[\"Lat\", \"Lng\"]]\n",
    "humidity = city_data_df[\"Humidity\"]\n",
    "fig = gmaps.figure(center=(30.0, 31.0), zoom_level=1.5)\n",
    "heat_layer = gmaps.heatmap_layer(locations, weights=humidity, dissipating=False, max_intensity=300, point_radius=4)\n",
    "\n",
    "fig.add_layer(heat_layer)\n",
    "# Call the figure to plot the data.\n",
    "fig"
   ]
  },
  {
   "cell_type": "code",
   "execution_count": 40,
   "metadata": {},
   "outputs": [
    {
     "output_type": "display_data",
     "data": {
      "text/plain": "Figure(layout=FigureLayout(height='420px'))",
      "application/vnd.jupyter.widget-view+json": {
       "version_major": 2,
       "version_minor": 0,
       "model_id": "c0b5167fb4ba47aba618b97cf722f760"
      }
     },
     "metadata": {}
    }
   ],
   "source": [
    "# Heatmap of percent humidity\n",
    "locations = city_data_df[[\"Lat\", \"Lng\"]]\n",
    "clouds = city_data_df[\"Cloudiness\"]\n",
    "fig = gmaps.figure(center=(30.0, 31.0), zoom_level=1.5)\n",
    "heat_layer = gmaps.heatmap_layer(locations, weights=clouds, dissipating=False, max_intensity=300, point_radius=4)\n",
    "\n",
    "fig.add_layer(heat_layer)\n",
    "# Call the figure to plot the data.\n",
    "fig"
   ]
  },
  {
   "cell_type": "code",
   "execution_count": 41,
   "metadata": {},
   "outputs": [
    {
     "output_type": "display_data",
     "data": {
      "text/plain": "Figure(layout=FigureLayout(height='420px'))",
      "application/vnd.jupyter.widget-view+json": {
       "version_major": 2,
       "version_minor": 0,
       "model_id": "74b62fe36ca646238c032edef73b604c"
      }
     },
     "metadata": {}
    }
   ],
   "source": [
    "# Heatmap of percent humidity\n",
    "locations = city_data_df[[\"Lat\", \"Lng\"]]\n",
    "wind = city_data_df[\"Wind Speed\"]\n",
    "fig = gmaps.figure(center=(30.0, 31.0), zoom_level=1.5)\n",
    "heat_layer = gmaps.heatmap_layer(locations, weights=wind, dissipating=False, max_intensity=300, point_radius=4)\n",
    "\n",
    "fig.add_layer(heat_layer)\n",
    "# Call the figure to plot the data.\n",
    "fig"
   ]
  },
  {
   "cell_type": "code",
   "execution_count": 48,
   "metadata": {},
   "outputs": [],
   "source": [
    "# Ask the customer to add a minimum and maximum temperature value.\n",
    "min_temp = float(input(\"What is the minimum temperature you would like for your trip? \"))\n",
    "max_temp = float(input(\"What is the maximum temperature you would like for your trip? \"))"
   ]
  },
  {
   "cell_type": "code",
   "execution_count": 49,
   "metadata": {},
   "outputs": [
    {
     "output_type": "execute_result",
     "data": {
      "text/plain": [
       "    City_ID        City Country                 Date      Lat       Lng  \\\n",
       "8         8   Bathsheba      BB  2021-07-18 04:03:36  13.2167  -59.5167   \n",
       "19       19      Manaus      BR  2021-07-18 04:01:20  -3.1019  -60.0250   \n",
       "26       26  San Andres      CO  2021-07-18 04:04:17  12.5847  -81.7006   \n",
       "28       28     Ternate      ID  2021-07-18 04:04:17   0.8000  127.4000   \n",
       "29       29    Westport      US  2021-07-18 04:01:10  41.1415  -73.3579   \n",
       "32       32        Hilo      US  2021-07-18 04:03:30  19.7297 -155.0900   \n",
       "36       36        Tura      IN  2021-07-18 04:04:18  25.5198   90.2201   \n",
       "43       43       Bilma      NE  2021-07-18 04:04:20  18.6853   12.9164   \n",
       "51       51    Oussouye      SN  2021-07-18 04:04:21  12.4850  -16.5469   \n",
       "52       52      Avarua      CK  2021-07-18 04:03:28 -21.2078 -159.7750   \n",
       "\n",
       "    Max Temp  Humidity  Cloudiness  Wind Speed  \n",
       "8      80.40        83          19       17.02  \n",
       "19     81.09        83           0        4.61  \n",
       "26     82.42        83          75       13.80  \n",
       "28     81.05        77          97        7.45  \n",
       "29     79.32        94         100        8.99  \n",
       "32     81.28        94          92        5.01  \n",
       "36     81.84        80          99        3.83  \n",
       "43     80.11        63          68       11.41  \n",
       "51     78.93        83          78        1.97  \n",
       "52     77.05        78          40       14.97  "
      ],
      "text/html": "<div>\n<style scoped>\n    .dataframe tbody tr th:only-of-type {\n        vertical-align: middle;\n    }\n\n    .dataframe tbody tr th {\n        vertical-align: top;\n    }\n\n    .dataframe thead th {\n        text-align: right;\n    }\n</style>\n<table border=\"1\" class=\"dataframe\">\n  <thead>\n    <tr style=\"text-align: right;\">\n      <th></th>\n      <th>City_ID</th>\n      <th>City</th>\n      <th>Country</th>\n      <th>Date</th>\n      <th>Lat</th>\n      <th>Lng</th>\n      <th>Max Temp</th>\n      <th>Humidity</th>\n      <th>Cloudiness</th>\n      <th>Wind Speed</th>\n    </tr>\n  </thead>\n  <tbody>\n    <tr>\n      <th>8</th>\n      <td>8</td>\n      <td>Bathsheba</td>\n      <td>BB</td>\n      <td>2021-07-18 04:03:36</td>\n      <td>13.2167</td>\n      <td>-59.5167</td>\n      <td>80.40</td>\n      <td>83</td>\n      <td>19</td>\n      <td>17.02</td>\n    </tr>\n    <tr>\n      <th>19</th>\n      <td>19</td>\n      <td>Manaus</td>\n      <td>BR</td>\n      <td>2021-07-18 04:01:20</td>\n      <td>-3.1019</td>\n      <td>-60.0250</td>\n      <td>81.09</td>\n      <td>83</td>\n      <td>0</td>\n      <td>4.61</td>\n    </tr>\n    <tr>\n      <th>26</th>\n      <td>26</td>\n      <td>San Andres</td>\n      <td>CO</td>\n      <td>2021-07-18 04:04:17</td>\n      <td>12.5847</td>\n      <td>-81.7006</td>\n      <td>82.42</td>\n      <td>83</td>\n      <td>75</td>\n      <td>13.80</td>\n    </tr>\n    <tr>\n      <th>28</th>\n      <td>28</td>\n      <td>Ternate</td>\n      <td>ID</td>\n      <td>2021-07-18 04:04:17</td>\n      <td>0.8000</td>\n      <td>127.4000</td>\n      <td>81.05</td>\n      <td>77</td>\n      <td>97</td>\n      <td>7.45</td>\n    </tr>\n    <tr>\n      <th>29</th>\n      <td>29</td>\n      <td>Westport</td>\n      <td>US</td>\n      <td>2021-07-18 04:01:10</td>\n      <td>41.1415</td>\n      <td>-73.3579</td>\n      <td>79.32</td>\n      <td>94</td>\n      <td>100</td>\n      <td>8.99</td>\n    </tr>\n    <tr>\n      <th>32</th>\n      <td>32</td>\n      <td>Hilo</td>\n      <td>US</td>\n      <td>2021-07-18 04:03:30</td>\n      <td>19.7297</td>\n      <td>-155.0900</td>\n      <td>81.28</td>\n      <td>94</td>\n      <td>92</td>\n      <td>5.01</td>\n    </tr>\n    <tr>\n      <th>36</th>\n      <td>36</td>\n      <td>Tura</td>\n      <td>IN</td>\n      <td>2021-07-18 04:04:18</td>\n      <td>25.5198</td>\n      <td>90.2201</td>\n      <td>81.84</td>\n      <td>80</td>\n      <td>99</td>\n      <td>3.83</td>\n    </tr>\n    <tr>\n      <th>43</th>\n      <td>43</td>\n      <td>Bilma</td>\n      <td>NE</td>\n      <td>2021-07-18 04:04:20</td>\n      <td>18.6853</td>\n      <td>12.9164</td>\n      <td>80.11</td>\n      <td>63</td>\n      <td>68</td>\n      <td>11.41</td>\n    </tr>\n    <tr>\n      <th>51</th>\n      <td>51</td>\n      <td>Oussouye</td>\n      <td>SN</td>\n      <td>2021-07-18 04:04:21</td>\n      <td>12.4850</td>\n      <td>-16.5469</td>\n      <td>78.93</td>\n      <td>83</td>\n      <td>78</td>\n      <td>1.97</td>\n    </tr>\n    <tr>\n      <th>52</th>\n      <td>52</td>\n      <td>Avarua</td>\n      <td>CK</td>\n      <td>2021-07-18 04:03:28</td>\n      <td>-21.2078</td>\n      <td>-159.7750</td>\n      <td>77.05</td>\n      <td>78</td>\n      <td>40</td>\n      <td>14.97</td>\n    </tr>\n  </tbody>\n</table>\n</div>"
     },
     "metadata": {},
     "execution_count": 49
    }
   ],
   "source": [
    "# Filter the dataset to find the cities that fit the criteria.\n",
    "preferred_cities_df = city_data_df.loc[(city_data_df[\"Max Temp\"] <= max_temp) & \\\n",
    "                                       (city_data_df[\"Max Temp\"] >= min_temp)]\n",
    "preferred_cities_df.head(10)"
   ]
  },
  {
   "cell_type": "code",
   "execution_count": 50,
   "metadata": {},
   "outputs": [
    {
     "output_type": "execute_result",
     "data": {
      "text/plain": [
       "City_ID       151\n",
       "City          151\n",
       "Country       151\n",
       "Date          151\n",
       "Lat           151\n",
       "Lng           151\n",
       "Max Temp      151\n",
       "Humidity      151\n",
       "Cloudiness    151\n",
       "Wind Speed    151\n",
       "dtype: int64"
      ]
     },
     "metadata": {},
     "execution_count": 50
    }
   ],
   "source": [
    "preferred_cities_df.count()"
   ]
  },
  {
   "cell_type": "code",
   "execution_count": 51,
   "metadata": {},
   "outputs": [
    {
     "output_type": "execute_result",
     "data": {
      "text/plain": [
       "          City Country  Max Temp      Lat       Lng Hotel Name\n",
       "8    Bathsheba      BB     80.40  13.2167  -59.5167           \n",
       "19      Manaus      BR     81.09  -3.1019  -60.0250           \n",
       "26  San Andres      CO     82.42  12.5847  -81.7006           \n",
       "28     Ternate      ID     81.05   0.8000  127.4000           \n",
       "29    Westport      US     79.32  41.1415  -73.3579           \n",
       "32        Hilo      US     81.28  19.7297 -155.0900           \n",
       "36        Tura      IN     81.84  25.5198   90.2201           \n",
       "43       Bilma      NE     80.11  18.6853   12.9164           \n",
       "51    Oussouye      SN     78.93  12.4850  -16.5469           \n",
       "52      Avarua      CK     77.05 -21.2078 -159.7750           "
      ],
      "text/html": "<div>\n<style scoped>\n    .dataframe tbody tr th:only-of-type {\n        vertical-align: middle;\n    }\n\n    .dataframe tbody tr th {\n        vertical-align: top;\n    }\n\n    .dataframe thead th {\n        text-align: right;\n    }\n</style>\n<table border=\"1\" class=\"dataframe\">\n  <thead>\n    <tr style=\"text-align: right;\">\n      <th></th>\n      <th>City</th>\n      <th>Country</th>\n      <th>Max Temp</th>\n      <th>Lat</th>\n      <th>Lng</th>\n      <th>Hotel Name</th>\n    </tr>\n  </thead>\n  <tbody>\n    <tr>\n      <th>8</th>\n      <td>Bathsheba</td>\n      <td>BB</td>\n      <td>80.40</td>\n      <td>13.2167</td>\n      <td>-59.5167</td>\n      <td></td>\n    </tr>\n    <tr>\n      <th>19</th>\n      <td>Manaus</td>\n      <td>BR</td>\n      <td>81.09</td>\n      <td>-3.1019</td>\n      <td>-60.0250</td>\n      <td></td>\n    </tr>\n    <tr>\n      <th>26</th>\n      <td>San Andres</td>\n      <td>CO</td>\n      <td>82.42</td>\n      <td>12.5847</td>\n      <td>-81.7006</td>\n      <td></td>\n    </tr>\n    <tr>\n      <th>28</th>\n      <td>Ternate</td>\n      <td>ID</td>\n      <td>81.05</td>\n      <td>0.8000</td>\n      <td>127.4000</td>\n      <td></td>\n    </tr>\n    <tr>\n      <th>29</th>\n      <td>Westport</td>\n      <td>US</td>\n      <td>79.32</td>\n      <td>41.1415</td>\n      <td>-73.3579</td>\n      <td></td>\n    </tr>\n    <tr>\n      <th>32</th>\n      <td>Hilo</td>\n      <td>US</td>\n      <td>81.28</td>\n      <td>19.7297</td>\n      <td>-155.0900</td>\n      <td></td>\n    </tr>\n    <tr>\n      <th>36</th>\n      <td>Tura</td>\n      <td>IN</td>\n      <td>81.84</td>\n      <td>25.5198</td>\n      <td>90.2201</td>\n      <td></td>\n    </tr>\n    <tr>\n      <th>43</th>\n      <td>Bilma</td>\n      <td>NE</td>\n      <td>80.11</td>\n      <td>18.6853</td>\n      <td>12.9164</td>\n      <td></td>\n    </tr>\n    <tr>\n      <th>51</th>\n      <td>Oussouye</td>\n      <td>SN</td>\n      <td>78.93</td>\n      <td>12.4850</td>\n      <td>-16.5469</td>\n      <td></td>\n    </tr>\n    <tr>\n      <th>52</th>\n      <td>Avarua</td>\n      <td>CK</td>\n      <td>77.05</td>\n      <td>-21.2078</td>\n      <td>-159.7750</td>\n      <td></td>\n    </tr>\n  </tbody>\n</table>\n</div>"
     },
     "metadata": {},
     "execution_count": 51
    }
   ],
   "source": [
    "# Create DataFrame called hotel_df to store hotel names along with city, country, max temp, and coordinates.\n",
    "hotel_df = preferred_cities_df[[\"City\", \"Country\", \"Max Temp\", \"Lat\", \"Lng\"]].copy()\n",
    "hotel_df[\"Hotel Name\"] = \"\"\n",
    "hotel_df.head(10)"
   ]
  },
  {
   "cell_type": "code",
   "execution_count": 55,
   "metadata": {},
   "outputs": [],
   "source": [
    "# Set parameters to search for a hotel.\n",
    "params = {\n",
    "    \"radius\": 5000,\n",
    "    \"type\": \"lodging\",\n",
    "    \"key\": g_key\n",
    "}"
   ]
  },
  {
   "cell_type": "code",
   "execution_count": 56,
   "metadata": {},
   "outputs": [
    {
     "output_type": "error",
     "ename": "IndexError",
     "evalue": "list index out of range",
     "traceback": [
      "\u001b[1;31m---------------------------------------------------------------------------\u001b[0m",
      "\u001b[1;31mIndexError\u001b[0m                                Traceback (most recent call last)",
      "\u001b[1;32m<ipython-input-56-fb4b837962f0>\u001b[0m in \u001b[0;36m<module>\u001b[1;34m\u001b[0m\n\u001b[0;32m     13\u001b[0m     \u001b[0mhotels\u001b[0m \u001b[1;33m=\u001b[0m \u001b[0mrequests\u001b[0m\u001b[1;33m.\u001b[0m\u001b[0mget\u001b[0m\u001b[1;33m(\u001b[0m\u001b[0mbase_url\u001b[0m\u001b[1;33m,\u001b[0m \u001b[0mparams\u001b[0m\u001b[1;33m=\u001b[0m\u001b[0mparams\u001b[0m\u001b[1;33m)\u001b[0m\u001b[1;33m.\u001b[0m\u001b[0mjson\u001b[0m\u001b[1;33m(\u001b[0m\u001b[1;33m)\u001b[0m\u001b[1;33m\u001b[0m\u001b[1;33m\u001b[0m\u001b[0m\n\u001b[0;32m     14\u001b[0m     \u001b[1;31m# Grab the first hotel from the results and store the name.\u001b[0m\u001b[1;33m\u001b[0m\u001b[1;33m\u001b[0m\u001b[1;33m\u001b[0m\u001b[0m\n\u001b[1;32m---> 15\u001b[1;33m     \u001b[0mhotel_df\u001b[0m\u001b[1;33m.\u001b[0m\u001b[0mloc\u001b[0m\u001b[1;33m[\u001b[0m\u001b[0mindex\u001b[0m\u001b[1;33m,\u001b[0m \u001b[1;34m\"Hotel Name\"\u001b[0m\u001b[1;33m]\u001b[0m \u001b[1;33m=\u001b[0m \u001b[0mhotels\u001b[0m\u001b[1;33m[\u001b[0m\u001b[1;34m\"results\"\u001b[0m\u001b[1;33m]\u001b[0m\u001b[1;33m[\u001b[0m\u001b[1;36m0\u001b[0m\u001b[1;33m]\u001b[0m\u001b[1;33m[\u001b[0m\u001b[1;34m\"name\"\u001b[0m\u001b[1;33m]\u001b[0m\u001b[1;33m\u001b[0m\u001b[1;33m\u001b[0m\u001b[0m\n\u001b[0m",
      "\u001b[1;31mIndexError\u001b[0m: list index out of range"
     ]
    }
   ],
   "source": [
    "# Iterate through the DataFrame.\n",
    "for index, row in hotel_df.iterrows():\n",
    "    # Get the latitude and longitude.\n",
    "    lat = row[\"Lat\"]\n",
    "    lng = row[\"Lng\"]\n",
    "\n",
    "    # Add the latitude and longitude to location key for the params dictionary.\n",
    "    params[\"location\"] = f\"{lat},{lng}\"\n",
    "\n",
    "    # Use the search term: \"lodging\" and our latitude and longitude.\n",
    "    base_url = \"https://maps.googleapis.com/maps/api/place/nearbysearch/json\"\n",
    "    # Make request and get the JSON data from the search.\n",
    "    hotels = requests.get(base_url, params=params).json()\n",
    "    # Grab the first hotel from the results and store the name.\n",
    "    hotel_df.loc[index, \"Hotel Name\"] = hotels[\"results\"][0][\"name\"]"
   ]
  },
  {
   "cell_type": "code",
   "execution_count": 57,
   "metadata": {},
   "outputs": [
    {
     "output_type": "stream",
     "name": "stdout",
     "text": [
      "Hotel not found... skipping.\n"
     ]
    }
   ],
   "source": [
    "# Grab the first hotel from the results and store the name.\n",
    "  try:\n",
    "    hotel_df.loc[index, \"Hotel Name\"] = hotels[\"results\"][0][\"name\"]\n",
    "  except (IndexError):\n",
    "    print(\"Hotel not found... skipping.\")"
   ]
  },
  {
   "cell_type": "code",
   "execution_count": 60,
   "metadata": {},
   "outputs": [
    {
     "output_type": "stream",
     "name": "stdout",
     "text": [
      "Hotel not found... skipping.\n",
      "Hotel not found... skipping.\n",
      "Hotel not found... skipping.\n",
      "Hotel not found... skipping.\n",
      "Hotel not found... skipping.\n",
      "Hotel not found... skipping.\n",
      "Hotel not found... skipping.\n",
      "Hotel not found... skipping.\n",
      "Hotel not found... skipping.\n",
      "Hotel not found... skipping.\n",
      "Hotel not found... skipping.\n",
      "Hotel not found... skipping.\n",
      "Hotel not found... skipping.\n",
      "Hotel not found... skipping.\n",
      "Hotel not found... skipping.\n",
      "Hotel not found... skipping.\n",
      "Hotel not found... skipping.\n",
      "Hotel not found... skipping.\n",
      "Hotel not found... skipping.\n",
      "Hotel not found... skipping.\n",
      "Hotel not found... skipping.\n",
      "Hotel not found... skipping.\n",
      "Hotel not found... skipping.\n",
      "Hotel not found... skipping.\n",
      "Hotel not found... skipping.\n",
      "Hotel not found... skipping.\n",
      "Hotel not found... skipping.\n",
      "Hotel not found... skipping.\n",
      "Hotel not found... skipping.\n",
      "Hotel not found... skipping.\n"
     ]
    }
   ],
   "source": [
    "# Iterate through the DataFrame.\n",
    "for index, row in hotel_df.iterrows():\n",
    "    # Get the latitude and longitude.\n",
    "    lat = row[\"Lat\"]\n",
    "    lng = row[\"Lng\"]\n",
    "\n",
    "    # Add the latitude and longitude to location key for the params dictionary.\n",
    "    params[\"location\"] = f\"{lat},{lng}\"\n",
    "\n",
    "    # Use the search term: \"lodging\" and our latitude and longitude.\n",
    "    base_url = \"https://maps.googleapis.com/maps/api/place/nearbysearch/json\"\n",
    "    # Make request and get the JSON data from the search.\n",
    "    hotels = requests.get(base_url, params=params).json()\n",
    "    # Grab the first hotel from the results and store the name.\n",
    "    try:\n",
    "        hotel_df.loc[index, \"Hotel Name\"] = hotels[\"results\"][0][\"name\"]\n",
    "    except (IndexError):\n",
    "        print(\"Hotel not found... skipping.\")"
   ]
  },
  {
   "cell_type": "code",
   "execution_count": 63,
   "metadata": {},
   "outputs": [
    {
     "output_type": "execute_result",
     "data": {
      "text/plain": [
       "          City Country  Max Temp      Lat       Lng  \\\n",
       "8    Bathsheba      BB     80.40  13.2167  -59.5167   \n",
       "19      Manaus      BR     81.09  -3.1019  -60.0250   \n",
       "26  San Andres      CO     82.42  12.5847  -81.7006   \n",
       "28     Ternate      ID     81.05   0.8000  127.4000   \n",
       "29    Westport      US     79.32  41.1415  -73.3579   \n",
       "32        Hilo      US     81.28  19.7297 -155.0900   \n",
       "36        Tura      IN     81.84  25.5198   90.2201   \n",
       "43       Bilma      NE     80.11  18.6853   12.9164   \n",
       "51    Oussouye      SN     78.93  12.4850  -16.5469   \n",
       "52      Avarua      CK     77.05 -21.2078 -159.7750   \n",
       "\n",
       "                    Hotel Name  \n",
       "8               Atlantis Hotel  \n",
       "19    Manaus Hotéis Millennium  \n",
       "26          Hotel Arena Blanca  \n",
       "28    Grand Dafam Bela Ternate  \n",
       "29            The Westport Inn  \n",
       "32         Hilo Hawaiian Hotel  \n",
       "36    Hotel RIKMAN Continental  \n",
       "43  Expeditions Ténére voyages  \n",
       "51          Auberge du Routard  \n",
       "52                Paradise Inn  "
      ],
      "text/html": "<div>\n<style scoped>\n    .dataframe tbody tr th:only-of-type {\n        vertical-align: middle;\n    }\n\n    .dataframe tbody tr th {\n        vertical-align: top;\n    }\n\n    .dataframe thead th {\n        text-align: right;\n    }\n</style>\n<table border=\"1\" class=\"dataframe\">\n  <thead>\n    <tr style=\"text-align: right;\">\n      <th></th>\n      <th>City</th>\n      <th>Country</th>\n      <th>Max Temp</th>\n      <th>Lat</th>\n      <th>Lng</th>\n      <th>Hotel Name</th>\n    </tr>\n  </thead>\n  <tbody>\n    <tr>\n      <th>8</th>\n      <td>Bathsheba</td>\n      <td>BB</td>\n      <td>80.40</td>\n      <td>13.2167</td>\n      <td>-59.5167</td>\n      <td>Atlantis Hotel</td>\n    </tr>\n    <tr>\n      <th>19</th>\n      <td>Manaus</td>\n      <td>BR</td>\n      <td>81.09</td>\n      <td>-3.1019</td>\n      <td>-60.0250</td>\n      <td>Manaus Hotéis Millennium</td>\n    </tr>\n    <tr>\n      <th>26</th>\n      <td>San Andres</td>\n      <td>CO</td>\n      <td>82.42</td>\n      <td>12.5847</td>\n      <td>-81.7006</td>\n      <td>Hotel Arena Blanca</td>\n    </tr>\n    <tr>\n      <th>28</th>\n      <td>Ternate</td>\n      <td>ID</td>\n      <td>81.05</td>\n      <td>0.8000</td>\n      <td>127.4000</td>\n      <td>Grand Dafam Bela Ternate</td>\n    </tr>\n    <tr>\n      <th>29</th>\n      <td>Westport</td>\n      <td>US</td>\n      <td>79.32</td>\n      <td>41.1415</td>\n      <td>-73.3579</td>\n      <td>The Westport Inn</td>\n    </tr>\n    <tr>\n      <th>32</th>\n      <td>Hilo</td>\n      <td>US</td>\n      <td>81.28</td>\n      <td>19.7297</td>\n      <td>-155.0900</td>\n      <td>Hilo Hawaiian Hotel</td>\n    </tr>\n    <tr>\n      <th>36</th>\n      <td>Tura</td>\n      <td>IN</td>\n      <td>81.84</td>\n      <td>25.5198</td>\n      <td>90.2201</td>\n      <td>Hotel RIKMAN Continental</td>\n    </tr>\n    <tr>\n      <th>43</th>\n      <td>Bilma</td>\n      <td>NE</td>\n      <td>80.11</td>\n      <td>18.6853</td>\n      <td>12.9164</td>\n      <td>Expeditions Ténére voyages</td>\n    </tr>\n    <tr>\n      <th>51</th>\n      <td>Oussouye</td>\n      <td>SN</td>\n      <td>78.93</td>\n      <td>12.4850</td>\n      <td>-16.5469</td>\n      <td>Auberge du Routard</td>\n    </tr>\n    <tr>\n      <th>52</th>\n      <td>Avarua</td>\n      <td>CK</td>\n      <td>77.05</td>\n      <td>-21.2078</td>\n      <td>-159.7750</td>\n      <td>Paradise Inn</td>\n    </tr>\n  </tbody>\n</table>\n</div>"
     },
     "metadata": {},
     "execution_count": 63
    }
   ],
   "source": [
    "hotel_df.head(10)"
   ]
  },
  {
   "cell_type": "code",
   "execution_count": 64,
   "metadata": {},
   "outputs": [
    {
     "output_type": "display_data",
     "data": {
      "text/plain": "Figure(layout=FigureLayout(height='420px'))",
      "application/vnd.jupyter.widget-view+json": {
       "version_major": 2,
       "version_minor": 0,
       "model_id": "c251971cec3d4a91bf0f6df932d29d71"
      }
     },
     "metadata": {}
    }
   ],
   "source": [
    "# Add a heatmap of temperature for the vacation spots.\n",
    "locations = hotel_df[[\"Lat\", \"Lng\"]]\n",
    "max_temp = hotel_df[\"Max Temp\"]\n",
    "fig = gmaps.figure(center=(30.0, 31.0), zoom_level=1.5)\n",
    "heat_layer = gmaps.heatmap_layer(locations, weights=max_temp, dissipating=False,\n",
    "             max_intensity=300, point_radius=4)\n",
    "\n",
    "fig.add_layer(heat_layer)\n",
    "# Call the figure to plot the data.\n",
    "fig"
   ]
  },
  {
   "cell_type": "code",
   "execution_count": 65,
   "metadata": {},
   "outputs": [
    {
     "output_type": "display_data",
     "data": {
      "text/plain": "Figure(layout=FigureLayout(height='420px'))",
      "application/vnd.jupyter.widget-view+json": {
       "version_major": 2,
       "version_minor": 0,
       "model_id": "ae1071ae8acf4fd099aea586b84c733a"
      }
     },
     "metadata": {}
    }
   ],
   "source": [
    "# Add a heatmap of temperature for the vacation spots and marker for each city.\n",
    "locations = hotel_df[[\"Lat\", \"Lng\"]]\n",
    "max_temp = hotel_df[\"Max Temp\"]\n",
    "fig = gmaps.figure(center=(30.0, 31.0), zoom_level=1.5)\n",
    "heat_layer = gmaps.heatmap_layer(locations, weights=max_temp,\n",
    "             dissipating=False, max_intensity=300, point_radius=4)\n",
    "marker_layer = gmaps.marker_layer(locations)\n",
    "fig.add_layer(heat_layer)\n",
    "fig.add_layer(marker_layer)\n",
    "# Call the figure to plot the data.\n",
    "fig"
   ]
  },
  {
   "cell_type": "code",
   "execution_count": 66,
   "metadata": {},
   "outputs": [],
   "source": [
    "info_box_template = \"\"\"\n",
    "<dl>\n",
    "<dt>Hotel Name</dt><dd>{Hotel Name}</dd>\n",
    "<dt>City</dt><dd>{City}</dd>\n",
    "<dt>Country</dt><dd>{Country}</dd>\n",
    "<dt>Max Temp</dt><dd>{Max Temp} °F</dd>\n",
    "</dl>\n",
    "\"\"\"\n",
    "# Store the DataFrame Row.\n",
    "hotel_info = [info_box_template.format(**row) for index, row in hotel_df.iterrows()]"
   ]
  },
  {
   "cell_type": "code",
   "execution_count": 67,
   "metadata": {},
   "outputs": [
    {
     "output_type": "display_data",
     "data": {
      "text/plain": "Figure(layout=FigureLayout(height='420px'))",
      "application/vnd.jupyter.widget-view+json": {
       "version_major": 2,
       "version_minor": 0,
       "model_id": "1ccf3ae7cfe34f2f8d606e9bfb0af69e"
      }
     },
     "metadata": {}
    }
   ],
   "source": [
    "# Add a heatmap of temperature for the vacation spots and a pop-up marker for each city.\n",
    "locations = hotel_df[[\"Lat\", \"Lng\"]]\n",
    "max_temp = hotel_df[\"Max Temp\"]\n",
    "fig = gmaps.figure(center=(30.0, 31.0), zoom_level=1.5)\n",
    "heat_layer = gmaps.heatmap_layer(locations, weights=max_temp,dissipating=False,\n",
    "             max_intensity=300, point_radius=4)\n",
    "marker_layer = gmaps.marker_layer(locations, info_box_content=hotel_info)\n",
    "fig.add_layer(heat_layer)\n",
    "fig.add_layer(marker_layer)\n",
    "\n",
    "# Call the figure to plot the data.\n",
    "fig"
   ]
  },
  {
   "cell_type": "code",
   "execution_count": null,
   "metadata": {},
   "outputs": [],
   "source": []
  }
 ],
 "metadata": {
  "kernelspec": {
   "name": "python3",
   "display_name": "Python 3.6.13 64-bit ('PYthonData36': conda)"
  },
  "language_info": {
   "codemirror_mode": {
    "name": "ipython",
    "version": 3
   },
   "file_extension": ".py",
   "mimetype": "text/x-python",
   "name": "python",
   "nbconvert_exporter": "python",
   "pygments_lexer": "ipython3",
   "version": "3.6.13"
  },
  "interpreter": {
   "hash": "196c83cbdaf7372be28d51482c816df8e0a0d90b4682cacb86306331b12ec10c"
  }
 },
 "nbformat": 4,
 "nbformat_minor": 5
}